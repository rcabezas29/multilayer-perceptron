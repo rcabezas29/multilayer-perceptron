{
 "cells": [
  {
   "cell_type": "code",
   "execution_count": 2,
   "id": "cc559d49",
   "metadata": {},
   "outputs": [],
   "source": [
    "import pandas as pd\n",
    "from src.MultilayerPerceptron import MultilayerPerceptron, Layer\n",
    "from src.utils import to_categorical, standardize\n",
    "from src.split import split_dataset"
   ]
  },
  {
   "cell_type": "code",
   "execution_count": 3,
   "id": "9f805ea0",
   "metadata": {},
   "outputs": [],
   "source": [
    "df = pd.read_csv('./datasets/data.csv')\n",
    "df_train, df_test = split_dataset(df)"
   ]
  },
  {
   "cell_type": "code",
   "execution_count": null,
   "id": "2f846917",
   "metadata": {},
   "outputs": [],
   "source": [
    "df_train.columns = ['id', 'diagnosis'] + [f'feature_{i}' for i in range(1, 31)]\n",
    "df_train['diagnosis'] = df_train['diagnosis'].map({'M': 1, 'B': 0})\n",
    "df_train.drop(columns=['id'], inplace=True)\n",
    "\n",
    "df_train"
   ]
  },
  {
   "cell_type": "code",
   "execution_count": null,
   "id": "38b8b39c",
   "metadata": {},
   "outputs": [],
   "source": [
    "X_train = df_train.drop(columns='diagnosis').to_numpy()\n",
    "y_train = df_train['diagnosis'].to_numpy().reshape(-1, 1)\n",
    "y_train = to_categorical(y_train, num_classes=2)\n",
    "\n",
    "X_train.shape, y_train.shape"
   ]
  },
  {
   "cell_type": "code",
   "execution_count": null,
   "id": "22d59b24",
   "metadata": {},
   "outputs": [],
   "source": [
    "X_train = standardize(X_train)\n",
    "X_train"
   ]
  },
  {
   "cell_type": "code",
   "execution_count": null,
   "id": "40397fa5",
   "metadata": {},
   "outputs": [],
   "source": [
    "df_test.columns = ['id', 'diagnosis'] + [f'feature_{i}' for i in range(1, 31)]\n",
    "df_test['diagnosis'] = df_test['diagnosis'].map({'M': 1, 'B': 0})\n",
    "df_test.drop(columns=['id'], inplace=True)\n",
    "\n",
    "X_test = df_test.drop(columns='diagnosis').to_numpy()\n",
    "y_test = df_test['diagnosis'].to_numpy().reshape(-1, 1)\n",
    "y_test = to_categorical(y_test, num_classes=2)\n",
    "\n",
    "X_test = standardize(X_test)\n",
    "X_test, y_test"
   ]
  },
  {
   "cell_type": "code",
   "execution_count": null,
   "id": "f1c71c5e",
   "metadata": {},
   "outputs": [],
   "source": [
    "nn = MultilayerPerceptron([\n",
    "    Layer(X_train.shape[1], 25, \"sigmoid\"),\n",
    "    Layer(25, 15, \"relu\"),\n",
    "    Layer(15, 2, \"softmax\")\n",
    "], epochs=1000, learning_rate=0.001, early_stopping=False, verbose=False, adam=True)\n",
    "\n",
    "nn.train_with_validation(X_train, y_train, X_test, y_test)"
   ]
  }
 ],
 "metadata": {
  "kernelspec": {
   "display_name": "Python 3",
   "language": "python",
   "name": "python3"
  },
  "language_info": {
   "codemirror_mode": {
    "name": "ipython",
    "version": 3
   },
   "file_extension": ".py",
   "mimetype": "text/x-python",
   "name": "python",
   "nbconvert_exporter": "python",
   "pygments_lexer": "ipython3",
   "version": "3.12.3"
  }
 },
 "nbformat": 4,
 "nbformat_minor": 5
}
